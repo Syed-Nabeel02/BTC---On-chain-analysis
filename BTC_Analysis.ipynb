{
 "cells": [
  {
   "cell_type": "markdown",
   "id": "27466cbf-91be-4c40-b569-497bb6937eff",
   "metadata": {
    "id": "27466cbf-91be-4c40-b569-497bb6937eff"
   },
   "source": [
    "# On chain analysis BTC"
   ]
  },
  {
   "cell_type": "code",
   "execution_count": 1,
   "id": "558ff8fb-2534-4c8f-84b8-00f7348958c2",
   "metadata": {
    "id": "558ff8fb-2534-4c8f-84b8-00f7348958c2"
   },
   "outputs": [],
   "source": [
    "import requests\n",
    "import pandas as pd\n",
    "import time\n",
    "import matplotlib.pyplot as plt"
   ]
  },
  {
   "cell_type": "code",
   "execution_count": 2,
   "id": "9762bd40-9684-4192-9aef-303ca2cb8fde",
   "metadata": {
    "id": "9762bd40-9684-4192-9aef-303ca2cb8fde"
   },
   "outputs": [],
   "source": [
    "#Create a date range\n",
    "dates = pd.date_range(start = '1/1/2018', end = '2/1/2018')"
   ]
  },
  {
   "cell_type": "code",
   "execution_count": 3,
   "id": "b3205d48-3d57-45d8-8364-565325cf451c",
   "metadata": {
    "colab": {
     "base_uri": "https://localhost:8080/"
    },
    "id": "b3205d48-3d57-45d8-8364-565325cf451c",
    "outputId": "41d7b196-1f2d-486c-a6b1-4b2d43959ceb"
   },
   "outputs": [
    {
     "data": {
      "text/plain": [
       "DatetimeIndex(['2018-01-01', '2018-01-02', '2018-01-03', '2018-01-04',\n",
       "               '2018-01-05', '2018-01-06', '2018-01-07', '2018-01-08',\n",
       "               '2018-01-09', '2018-01-10', '2018-01-11', '2018-01-12',\n",
       "               '2018-01-13', '2018-01-14', '2018-01-15', '2018-01-16',\n",
       "               '2018-01-17', '2018-01-18', '2018-01-19', '2018-01-20',\n",
       "               '2018-01-21', '2018-01-22', '2018-01-23', '2018-01-24',\n",
       "               '2018-01-25', '2018-01-26', '2018-01-27', '2018-01-28',\n",
       "               '2018-01-29', '2018-01-30', '2018-01-31', '2018-02-01'],\n",
       "              dtype='datetime64[ns]', freq='D')"
      ]
     },
     "execution_count": 3,
     "metadata": {},
     "output_type": "execute_result"
    }
   ],
   "source": [
    "dates"
   ]
  },
  {
   "cell_type": "code",
   "execution_count": 4,
   "id": "95503b2a-eaf8-4a9c-8b39-5592e74a3444",
   "metadata": {
    "colab": {
     "base_uri": "https://localhost:8080/"
    },
    "id": "95503b2a-eaf8-4a9c-8b39-5592e74a3444",
    "outputId": "0dbface6-1913-478e-f3f3-e6a4aea24470"
   },
   "outputs": [
    {
     "data": {
      "text/plain": [
       "['20180101',\n",
       " '20180102',\n",
       " '20180103',\n",
       " '20180104',\n",
       " '20180105',\n",
       " '20180106',\n",
       " '20180107',\n",
       " '20180108',\n",
       " '20180109',\n",
       " '20180110',\n",
       " '20180111',\n",
       " '20180112',\n",
       " '20180113',\n",
       " '20180114',\n",
       " '20180115',\n",
       " '20180116',\n",
       " '20180117',\n",
       " '20180118',\n",
       " '20180119',\n",
       " '20180120',\n",
       " '20180121',\n",
       " '20180122',\n",
       " '20180123',\n",
       " '20180124',\n",
       " '20180125',\n",
       " '20180126',\n",
       " '20180127',\n",
       " '20180128',\n",
       " '20180129',\n",
       " '20180130',\n",
       " '20180131',\n",
       " '20180201']"
      ]
     },
     "execution_count": 4,
     "metadata": {},
     "output_type": "execute_result"
    }
   ],
   "source": [
    "# Now we string format the the time using string comprehension\n",
    "dates_f = [d.strftime('%Y%m%d') for d in dates]\n",
    "dates_f"
   ]
  },
  {
   "cell_type": "code",
   "execution_count": 5,
   "id": "2f1b3906-01be-4586-b8ac-1732fe14b4f9",
   "metadata": {
    "id": "2f1b3906-01be-4586-b8ac-1732fe14b4f9"
   },
   "outputs": [],
   "source": [
    "#Creating list of block\n",
    "block_list = []\n",
    "\n",
    "for i,date in enumerate(dates_f):\n",
    "    url = 'https://chain.api.btc.com/v3/block/date/{}'.format(date)\n",
    "    # Now making Api request\n",
    "    r = requests.get(url)\n",
    "\n",
    "    #Extracting as json file\n",
    "    output_block = r.json()\n",
    "    \n",
    "    #use extend because append will add extra list \n",
    "    block_list.extend(output_block['data'])\n",
    "    time.sleep(10)"
   ]
  },
  {
   "cell_type": "code",
   "execution_count": 6,
   "id": "3ff6b802-037f-49ed-91f5-73e9260cdba5",
   "metadata": {
    "colab": {
     "base_uri": "https://localhost:8080/"
    },
    "id": "3ff6b802-037f-49ed-91f5-73e9260cdba5",
    "outputId": "849d9e9c-e773-4e80-858c-86f46a078694"
   },
   "outputs": [
    {
     "data": {
      "text/plain": [
       "200"
      ]
     },
     "execution_count": 6,
     "metadata": {},
     "output_type": "execute_result"
    }
   ],
   "source": [
    "r.status_code"
   ]
  },
  {
   "cell_type": "code",
   "execution_count": 7,
   "id": "d4d77436-0f4c-40a0-934a-21c4215001c2",
   "metadata": {
    "colab": {
     "base_uri": "https://localhost:8080/"
    },
    "id": "d4d77436-0f4c-40a0-934a-21c4215001c2",
    "outputId": "e780ab0b-0f6d-412e-acaf-63641fc63333"
   },
   "outputs": [
    {
     "data": {
      "text/plain": [
       "5215"
      ]
     },
     "execution_count": 7,
     "metadata": {},
     "output_type": "execute_result"
    }
   ],
   "source": [
    "block_list[0]\n",
    "len(block_list)"
   ]
  },
  {
   "cell_type": "markdown",
   "id": "ee878409-5318-4d77-b512-bbb2f1a557f4",
   "metadata": {
    "id": "ee878409-5318-4d77-b512-bbb2f1a557f4"
   },
   "source": [
    "### Data preperation"
   ]
  },
  {
   "cell_type": "code",
   "execution_count": 8,
   "id": "1f9693af-86f8-409e-a9fb-4bbe16dd4f35",
   "metadata": {
    "id": "1f9693af-86f8-409e-a9fb-4bbe16dd4f35"
   },
   "outputs": [],
   "source": [
    "clean_block_list = [[x['timestamp'], x['height'], x['tx_count']] for x in block_list]\n",
    "clean_block_list.head(5)"
   ]
  },
  {
   "cell_type": "code",
   "execution_count": 9,
   "id": "be2eaffc-7e8d-499f-a3b3-ede27e29430c",
   "metadata": {
    "id": "be2eaffc-7e8d-499f-a3b3-ede27e29430c"
   },
   "outputs": [],
   "source": [
    "#crete dataframe\n",
    "df = pd.DataFrame(clean_block_list, columns = ['timestamp','height','tx_count'])"
   ]
  },
  {
   "cell_type": "code",
   "execution_count": 10,
   "id": "29bb19b5-ef34-4eb3-89a6-0e06a2bf58be",
   "metadata": {
    "colab": {
     "base_uri": "https://localhost:8080/",
     "height": 206
    },
    "id": "29bb19b5-ef34-4eb3-89a6-0e06a2bf58be",
    "outputId": "70f91b77-9f2b-464e-dfbb-bb1999f05f53"
   },
   "outputs": [
    {
     "data": {
      "text/html": [
       "<div>\n",
       "<style scoped>\n",
       "    .dataframe tbody tr th:only-of-type {\n",
       "        vertical-align: middle;\n",
       "    }\n",
       "\n",
       "    .dataframe tbody tr th {\n",
       "        vertical-align: top;\n",
       "    }\n",
       "\n",
       "    .dataframe thead th {\n",
       "        text-align: right;\n",
       "    }\n",
       "</style>\n",
       "<table border=\"1\" class=\"dataframe\">\n",
       "  <thead>\n",
       "    <tr style=\"text-align: right;\">\n",
       "      <th></th>\n",
       "      <th>timestamp</th>\n",
       "      <th>height</th>\n",
       "      <th>tx_count</th>\n",
       "    </tr>\n",
       "  </thead>\n",
       "  <tbody>\n",
       "    <tr>\n",
       "      <th>0</th>\n",
       "      <td>1514850785</td>\n",
       "      <td>502116</td>\n",
       "      <td>2598</td>\n",
       "    </tr>\n",
       "    <tr>\n",
       "      <th>1</th>\n",
       "      <td>1514849945</td>\n",
       "      <td>502115</td>\n",
       "      <td>2375</td>\n",
       "    </tr>\n",
       "    <tr>\n",
       "      <th>2</th>\n",
       "      <td>1514848457</td>\n",
       "      <td>502114</td>\n",
       "      <td>2719</td>\n",
       "    </tr>\n",
       "    <tr>\n",
       "      <th>3</th>\n",
       "      <td>1514847391</td>\n",
       "      <td>502113</td>\n",
       "      <td>1971</td>\n",
       "    </tr>\n",
       "    <tr>\n",
       "      <th>4</th>\n",
       "      <td>1514846766</td>\n",
       "      <td>502112</td>\n",
       "      <td>1062</td>\n",
       "    </tr>\n",
       "  </tbody>\n",
       "</table>\n",
       "</div>"
      ],
      "text/plain": [
       "    timestamp  height  tx_count\n",
       "0  1514850785  502116      2598\n",
       "1  1514849945  502115      2375\n",
       "2  1514848457  502114      2719\n",
       "3  1514847391  502113      1971\n",
       "4  1514846766  502112      1062"
      ]
     },
     "execution_count": 10,
     "metadata": {},
     "output_type": "execute_result"
    }
   ],
   "source": [
    "df.head()"
   ]
  },
  {
   "cell_type": "code",
   "execution_count": 11,
   "id": "79b82481-4fde-41ae-93be-b9b8be295343",
   "metadata": {
    "colab": {
     "base_uri": "https://localhost:8080/",
     "height": 424
    },
    "id": "79b82481-4fde-41ae-93be-b9b8be295343",
    "outputId": "4a1a7e95-796d-469a-ff05-01764f6b38aa"
   },
   "outputs": [
    {
     "data": {
      "text/html": [
       "<div>\n",
       "<style scoped>\n",
       "    .dataframe tbody tr th:only-of-type {\n",
       "        vertical-align: middle;\n",
       "    }\n",
       "\n",
       "    .dataframe tbody tr th {\n",
       "        vertical-align: top;\n",
       "    }\n",
       "\n",
       "    .dataframe thead th {\n",
       "        text-align: right;\n",
       "    }\n",
       "</style>\n",
       "<table border=\"1\" class=\"dataframe\">\n",
       "  <thead>\n",
       "    <tr style=\"text-align: right;\">\n",
       "      <th></th>\n",
       "      <th>timestamp</th>\n",
       "      <th>height</th>\n",
       "      <th>tx_count</th>\n",
       "    </tr>\n",
       "  </thead>\n",
       "  <tbody>\n",
       "    <tr>\n",
       "      <th>0</th>\n",
       "      <td>01/01/18</td>\n",
       "      <td>502116</td>\n",
       "      <td>2598</td>\n",
       "    </tr>\n",
       "    <tr>\n",
       "      <th>1</th>\n",
       "      <td>01/01/18</td>\n",
       "      <td>502115</td>\n",
       "      <td>2375</td>\n",
       "    </tr>\n",
       "    <tr>\n",
       "      <th>2</th>\n",
       "      <td>01/01/18</td>\n",
       "      <td>502114</td>\n",
       "      <td>2719</td>\n",
       "    </tr>\n",
       "    <tr>\n",
       "      <th>3</th>\n",
       "      <td>01/01/18</td>\n",
       "      <td>502113</td>\n",
       "      <td>1971</td>\n",
       "    </tr>\n",
       "    <tr>\n",
       "      <th>4</th>\n",
       "      <td>01/01/18</td>\n",
       "      <td>502112</td>\n",
       "      <td>1062</td>\n",
       "    </tr>\n",
       "    <tr>\n",
       "      <th>...</th>\n",
       "      <td>...</td>\n",
       "      <td>...</td>\n",
       "      <td>...</td>\n",
       "    </tr>\n",
       "    <tr>\n",
       "      <th>5210</th>\n",
       "      <td>02/01/18</td>\n",
       "      <td>507020</td>\n",
       "      <td>1744</td>\n",
       "    </tr>\n",
       "    <tr>\n",
       "      <th>5211</th>\n",
       "      <td>02/01/18</td>\n",
       "      <td>507019</td>\n",
       "      <td>2530</td>\n",
       "    </tr>\n",
       "    <tr>\n",
       "      <th>5212</th>\n",
       "      <td>02/01/18</td>\n",
       "      <td>507018</td>\n",
       "      <td>2147</td>\n",
       "    </tr>\n",
       "    <tr>\n",
       "      <th>5213</th>\n",
       "      <td>02/01/18</td>\n",
       "      <td>507017</td>\n",
       "      <td>2803</td>\n",
       "    </tr>\n",
       "    <tr>\n",
       "      <th>5214</th>\n",
       "      <td>02/01/18</td>\n",
       "      <td>507016</td>\n",
       "      <td>2441</td>\n",
       "    </tr>\n",
       "  </tbody>\n",
       "</table>\n",
       "<p>5215 rows × 3 columns</p>\n",
       "</div>"
      ],
      "text/plain": [
       "     timestamp  height  tx_count\n",
       "0     01/01/18  502116      2598\n",
       "1     01/01/18  502115      2375\n",
       "2     01/01/18  502114      2719\n",
       "3     01/01/18  502113      1971\n",
       "4     01/01/18  502112      1062\n",
       "...        ...     ...       ...\n",
       "5210  02/01/18  507020      1744\n",
       "5211  02/01/18  507019      2530\n",
       "5212  02/01/18  507018      2147\n",
       "5213  02/01/18  507017      2803\n",
       "5214  02/01/18  507016      2441\n",
       "\n",
       "[5215 rows x 3 columns]"
      ]
     },
     "execution_count": 11,
     "metadata": {},
     "output_type": "execute_result"
    }
   ],
   "source": [
    "df['timestamp'] = pd.to_datetime(df['timestamp'], unit = 's').dt.strftime('%D')\n",
    "df"
   ]
  },
  {
   "cell_type": "code",
   "execution_count": 12,
   "id": "c238cfa8-770d-4385-971c-a6dc27385625",
   "metadata": {
    "colab": {
     "base_uri": "https://localhost:8080/",
     "height": 237
    },
    "id": "c238cfa8-770d-4385-971c-a6dc27385625",
    "outputId": "28a100c9-9e90-4346-be3f-af2103639810"
   },
   "outputs": [
    {
     "data": {
      "text/html": [
       "<div>\n",
       "<style scoped>\n",
       "    .dataframe tbody tr th:only-of-type {\n",
       "        vertical-align: middle;\n",
       "    }\n",
       "\n",
       "    .dataframe tbody tr th {\n",
       "        vertical-align: top;\n",
       "    }\n",
       "\n",
       "    .dataframe thead th {\n",
       "        text-align: right;\n",
       "    }\n",
       "</style>\n",
       "<table border=\"1\" class=\"dataframe\">\n",
       "  <thead>\n",
       "    <tr style=\"text-align: right;\">\n",
       "      <th></th>\n",
       "      <th>numblock</th>\n",
       "      <th>numTx</th>\n",
       "    </tr>\n",
       "    <tr>\n",
       "      <th>timestamp</th>\n",
       "      <th></th>\n",
       "      <th></th>\n",
       "    </tr>\n",
       "  </thead>\n",
       "  <tbody>\n",
       "    <tr>\n",
       "      <th>01/01/18</th>\n",
       "      <td>156</td>\n",
       "      <td>241757</td>\n",
       "    </tr>\n",
       "    <tr>\n",
       "      <th>01/02/18</th>\n",
       "      <td>171</td>\n",
       "      <td>340980</td>\n",
       "    </tr>\n",
       "    <tr>\n",
       "      <th>01/03/18</th>\n",
       "      <td>157</td>\n",
       "      <td>395963</td>\n",
       "    </tr>\n",
       "    <tr>\n",
       "      <th>01/04/18</th>\n",
       "      <td>168</td>\n",
       "      <td>425008</td>\n",
       "    </tr>\n",
       "    <tr>\n",
       "      <th>01/05/18</th>\n",
       "      <td>143</td>\n",
       "      <td>342707</td>\n",
       "    </tr>\n",
       "  </tbody>\n",
       "</table>\n",
       "</div>"
      ],
      "text/plain": [
       "           numblock   numTx\n",
       "timestamp                  \n",
       "01/01/18        156  241757\n",
       "01/02/18        171  340980\n",
       "01/03/18        157  395963\n",
       "01/04/18        168  425008\n",
       "01/05/18        143  342707"
      ]
     },
     "execution_count": 12,
     "metadata": {},
     "output_type": "execute_result"
    }
   ],
   "source": [
    "df_new = df.groupby('timestamp').agg(\n",
    "    numblock = pd.NamedAgg(column= 'height', aggfunc = pd.Series.nunique),\n",
    "    numTx = pd.NamedAgg(column = 'tx_count', aggfunc = pd.Series.sum)\n",
    ")\n",
    "df_new.head(5)\n"
   ]
  },
  {
   "cell_type": "code",
   "execution_count": null,
   "id": "f6b3e2a6-f8f8-4048-b3e3-5c97c2ffbcee",
   "metadata": {
    "id": "f6b3e2a6-f8f8-4048-b3e3-5c97c2ffbcee"
   },
   "outputs": [],
   "source": []
  },
  {
   "cell_type": "markdown",
   "id": "zY9KbQ3lPrRA",
   "metadata": {
    "id": "zY9KbQ3lPrRA"
   },
   "source": [
    "### Analysing number of blocks and **transactions**"
   ]
  },
  {
   "cell_type": "code",
   "execution_count": 15,
   "id": "j0cZrZwJP5tV",
   "metadata": {
    "colab": {
     "base_uri": "https://localhost:8080/",
     "height": 331
    },
    "id": "j0cZrZwJP5tV",
    "outputId": "907f59cd-19ce-4b99-b1fc-e973489a7d5b"
   },
   "outputs": [
    {
     "name": "stderr",
     "output_type": "stream",
     "text": [
      "C:\\Users\\Syed Nabeel\\AppData\\Local\\Temp\\ipykernel_11716\\1553170982.py:9: UserWarning: FixedFormatter should only be used together with FixedLocator\n",
      "  ax1.set_xticklabels(df_new.index, rotation = 'vertical')\n"
     ]
    },
    {
     "data": {
      "text/plain": [
       "Text(0, 0.5, 'Number of transactions')"
      ]
     },
     "execution_count": 15,
     "metadata": {},
     "output_type": "execute_result"
    },
    {
     "data": {
      "image/png": "[encoded data removed]",
      "text/plain": [
       "<Figure size 720x432 with 2 Axes>"
      ]
     },
     "metadata": {
      "needs_background": "light"
     },
     "output_type": "display_data"
    }
   ],
   "source": [
    "fig, ax1 = plt.subplots()\n",
    "plt.rcParams[\"figure.figsize\"] = (12,6)\n",
    "\n",
    "ax2 = ax1.twinx()\n",
    "ax1.plot(df_new.index, df_new['numblock'], 'g-')\n",
    "ax2.plot(df_new.index, df_new['numTx'], 'b-')\n",
    "\n",
    "ax1.set_xlabel('Dates')\n",
    "ax1.set_xticklabels(df_new.index, rotation = 'vertical')\n",
    "ax1.set_ylabel('Number of blocks', color='g')\n",
    "ax2.set_ylabel('Number of transactions', color='b')\n"
   ]
  },
  {
   "cell_type": "code",
   "execution_count": null,
   "id": "PDn6J9ikQ9qU",
   "metadata": {
    "id": "PDn6J9ikQ9qU"
   },
   "outputs": [],
   "source": []
  }
 ],
 "metadata": {
  "colab": {
   "collapsed_sections": [],
   "name": "BTC-Analysis.ipynb",
   "provenance": []
  },
  "kernelspec": {
   "display_name": "Python 3 (ipykernel)",
   "language": "python",
   "name": "python3"
  },
  "language_info": {
   "codemirror_mode": {
    "name": "ipython",
    "version": 3
   },
   "file_extension": ".py",
   "mimetype": "text/x-python",
   "name": "python",
   "nbconvert_exporter": "python",
   "pygments_lexer": "ipython3",
   "version": "3.10.4"
  }
 },
 "nbformat": 4,
 "nbformat_minor": 5
}
